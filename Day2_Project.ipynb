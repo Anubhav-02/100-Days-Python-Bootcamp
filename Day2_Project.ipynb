{
 "cells": [
  {
   "cell_type": "markdown",
   "metadata": {},
   "source": [
    "Project_Day2 = Tip Calculator"
   ]
  },
  {
   "cell_type": "code",
   "execution_count": 6,
   "metadata": {},
   "outputs": [
    {
     "name": "stdout",
     "output_type": "stream",
     "text": [
      "Each person should pay 30\n"
     ]
    }
   ],
   "source": [
    "total_bill = float(input(\"What was the total bill?: $\"))\n",
    "tip = float(input(\"How much tip would you like to give?10%, 12% & 15%: \"))\n",
    "No_of_people = int(input(\"How many people will spilt the bill?:\"))\n",
    "\n",
    "per_person = (total_bill+tip/100)/No_of_people\n",
    "\n",
    "print(\"Each person should pay\", round(per_person))"
   ]
  }
 ],
 "metadata": {
  "kernelspec": {
   "display_name": "Python 3",
   "language": "python",
   "name": "python3"
  },
  "language_info": {
   "codemirror_mode": {
    "name": "ipython",
    "version": 3
   },
   "file_extension": ".py",
   "mimetype": "text/x-python",
   "name": "python",
   "nbconvert_exporter": "python",
   "pygments_lexer": "ipython3",
   "version": "3.12.4"
  }
 },
 "nbformat": 4,
 "nbformat_minor": 2
}
